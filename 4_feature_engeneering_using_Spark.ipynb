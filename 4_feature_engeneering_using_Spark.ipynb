{
 "cells": [
  {
   "cell_type": "markdown",
   "metadata": {},
   "source": [
    "# Feature engineering using Spark\n",
    "- The date ranges from 20170330 to 20170512 of all the data. We define the first 30 days as the feature window and the last 14 days as the label window.\n",
    "- First we difine the churn users as those who are active in the first 30 days and do not have any activity in the lable window.\n",
    "- Then we create the frequency features for play, download and search in the frequency window [1, 3, 7, 14, 30] in the feature window. For e.g, number of plays in the last 7 days, number of searches in the last 30 days.\n",
    "- Since we also have play time and song length data for all the played songs, we can also create features based on thses information. Here I define a finished song as a song that is played 80% of its length, and count the numbers of finished songs in the previous frequency window [1, 3, 7, 14, 30]"
   ]
  },
  {
   "cell_type": "code",
   "execution_count": 1,
   "metadata": {},
   "outputs": [],
   "source": [
    "from pyspark.sql import SparkSession\n",
    "import pyspark.sql.functions as F"
   ]
  },
  {
   "cell_type": "code",
   "execution_count": 2,
   "metadata": {},
   "outputs": [],
   "source": [
    "import matplotlib.pyplot as plt\n",
    "%matplotlib inline"
   ]
  },
  {
   "cell_type": "code",
   "execution_count": 3,
   "metadata": {},
   "outputs": [],
   "source": [
    "spark = SparkSession \\\n",
    "        .builder \\\n",
    "        .appName(\"Feature engineering\") \\\n",
    "        .getOrCreate()"
   ]
  },
  {
   "cell_type": "code",
   "execution_count": 4,
   "metadata": {},
   "outputs": [],
   "source": [
    "df = spark.read.csv('data/event.csv', header=True).cache()"
   ]
  },
  {
   "cell_type": "code",
   "execution_count": 5,
   "metadata": {},
   "outputs": [],
   "source": [
    "df = df.select('uid', 'event', 'date')"
   ]
  },
  {
   "cell_type": "code",
   "execution_count": 6,
   "metadata": {},
   "outputs": [],
   "source": [
    "df = df.filter((F.col('date')>='2017-03-30') & (F.col('date')<='2017-05-12'))"
   ]
  },
  {
   "cell_type": "code",
   "execution_count": 7,
   "metadata": {
    "scrolled": true
   },
   "outputs": [
    {
     "name": "stdout",
     "output_type": "stream",
     "text": [
      "+---------+-----+----------+\n",
      "|      uid|event|      date|\n",
      "+---------+-----+----------+\n",
      "|168050395|    D|2017-03-30|\n",
      "|168340709|    S|2017-03-30|\n",
      "|168419556|    S|2017-03-30|\n",
      "|168447876|    S|2017-03-30|\n",
      "|168507164|    S|2017-03-30|\n",
      "+---------+-----+----------+\n",
      "only showing top 5 rows\n",
      "\n"
     ]
    }
   ],
   "source": [
    "df.show(5)"
   ]
  },
  {
   "cell_type": "code",
   "execution_count": 8,
   "metadata": {},
   "outputs": [
    {
     "name": "stdout",
     "output_type": "stream",
     "text": [
      "total # of records:  9939116\n",
      "total # of users: 30771\n"
     ]
    }
   ],
   "source": [
    "print('total # of records: ', df.count())\n",
    "print('total # of users:', df.select('uid').distinct().count())"
   ]
  },
  {
   "cell_type": "markdown",
   "metadata": {},
   "source": [
    "### Some basic spark dataframe operations, such as groupBy, orderBy, aggregation"
   ]
  },
  {
   "cell_type": "code",
   "execution_count": 9,
   "metadata": {
    "scrolled": false
   },
   "outputs": [
    {
     "name": "stdout",
     "output_type": "stream",
     "text": [
      "+-----+-------+\n",
      "|event|  count|\n",
      "+-----+-------+\n",
      "|    D| 470162|\n",
      "|    S| 605193|\n",
      "|    P|8863761|\n",
      "+-----+-------+\n",
      "\n"
     ]
    }
   ],
   "source": [
    "df.groupBy('event').count().show()"
   ]
  },
  {
   "cell_type": "code",
   "execution_count": 10,
   "metadata": {
    "scrolled": false
   },
   "outputs": [
    {
     "name": "stdout",
     "output_type": "stream",
     "text": [
      "+----------+-----+------+\n",
      "|      date|event| count|\n",
      "+----------+-----+------+\n",
      "|2017-03-30|    D|106912|\n",
      "|2017-03-30|    S| 79143|\n",
      "|2017-03-31|    D| 44768|\n",
      "|2017-03-31|    P|272971|\n",
      "|2017-03-31|    S| 44322|\n",
      "|2017-04-01|    D| 34480|\n",
      "|2017-04-01|    P|484054|\n",
      "|2017-04-01|    S| 33110|\n",
      "|2017-04-02|    D| 26775|\n",
      "|2017-04-02|    P|449231|\n",
      "|2017-04-02|    S| 30566|\n",
      "|2017-04-03|    D| 15231|\n",
      "|2017-04-03|    P|233018|\n",
      "|2017-04-03|    S| 22226|\n",
      "|2017-04-04|    D| 15188|\n",
      "|2017-04-04|    P|327309|\n",
      "|2017-04-04|    S| 18433|\n",
      "|2017-04-05|    D| 12376|\n",
      "|2017-04-05|    P|276376|\n",
      "|2017-04-05|    S| 15705|\n",
      "+----------+-----+------+\n",
      "only showing top 20 rows\n",
      "\n"
     ]
    }
   ],
   "source": [
    "# groupBy, orderBy\n",
    "df.groupBy('date', 'event').count().orderBy('date', 'event').show()"
   ]
  },
  {
   "cell_type": "code",
   "execution_count": 11,
   "metadata": {},
   "outputs": [
    {
     "name": "stdout",
     "output_type": "stream",
     "text": [
      "+---------+----------------------------------+------------------+\n",
      "|      uid|total # of activities for the user|last activive date|\n",
      "+---------+----------------------------------+------------------+\n",
      "|159183409|                               720|        2017-05-12|\n",
      "|165374841|                                62|        2017-04-04|\n",
      "|167587629|                                24|        2017-04-03|\n",
      "|167589113|                               214|        2017-04-17|\n",
      "|167595244|                                51|        2017-04-08|\n",
      "|167612678|                                13|        2017-04-02|\n",
      "|167614373|                                54|        2017-05-11|\n",
      "|167614845|                                20|        2017-04-01|\n",
      "|167622696|                                11|        2017-04-01|\n",
      "|167631789|                                 9|        2017-04-01|\n",
      "|167635050|                              3293|        2017-05-12|\n",
      "|167635731|                               297|        2017-05-12|\n",
      "|167639944|                                91|        2017-05-01|\n",
      "|167659528|                              1285|        2017-05-12|\n",
      "|167661040|                               408|        2017-04-22|\n",
      "|167690867|                                46|        2017-05-10|\n",
      "|167693620|                               934|        2017-05-12|\n",
      "|167697220|                                85|        2017-05-04|\n",
      "|167713433|                               119|        2017-05-12|\n",
      "|167728282|                                26|        2017-04-19|\n",
      "+---------+----------------------------------+------------------+\n",
      "only showing top 20 rows\n",
      "\n"
     ]
    }
   ],
   "source": [
    "# aggregate\n",
    "df.groupBy('uid').agg(\n",
    "        F.count(F.col('event')).alias('total # of activities for the user'),\n",
    "        F.max(F.col('date')).alias('last activive date')\n",
    "                    ).show()"
   ]
  },
  {
   "cell_type": "code",
   "execution_count": 12,
   "metadata": {},
   "outputs": [
    {
     "name": "stdout",
     "output_type": "stream",
     "text": [
      "+----------+-----+------+\n",
      "|      date|event| count|\n",
      "+----------+-----+------+\n",
      "|2017-04-01|    D| 34480|\n",
      "|2017-04-01|    P|484054|\n",
      "|2017-04-01|    S| 33110|\n",
      "|2017-04-02|    D| 26775|\n",
      "|2017-04-02|    P|449231|\n",
      "|2017-04-02|    S| 30566|\n",
      "|2017-04-03|    D| 15231|\n",
      "|2017-04-03|    P|233018|\n",
      "|2017-04-03|    S| 22226|\n",
      "|2017-04-04|    D| 15188|\n",
      "|2017-04-04|    P|327309|\n",
      "|2017-04-04|    S| 18433|\n",
      "|2017-04-05|    D| 12376|\n",
      "|2017-04-05|    P|276376|\n",
      "|2017-04-05|    S| 15705|\n",
      "|2017-04-06|    D| 10357|\n",
      "|2017-04-06|    P|278176|\n",
      "|2017-04-06|    S| 15317|\n",
      "|2017-04-07|    D|  8575|\n",
      "|2017-04-07|    P|267820|\n",
      "+----------+-----+------+\n",
      "only showing top 20 rows\n",
      "\n"
     ]
    }
   ],
   "source": [
    "# filter\n",
    "df.filter((F.col('date')>='2017-04-01') & (F.col('date')<='2017-04-15')) \\\n",
    "            .groupBy('date', 'event').count() \\\n",
    "            .orderBy('date', 'event').show()"
   ]
  },
  {
   "cell_type": "markdown",
   "metadata": {},
   "source": [
    "## Define the churn label\n",
    "- Users that are considered to churn are these who are active in the first 30 days and do not have any activity in the last 14 days."
   ]
  },
  {
   "cell_type": "code",
   "execution_count": 13,
   "metadata": {},
   "outputs": [
    {
     "name": "stdout",
     "output_type": "stream",
     "text": [
      "label window:  2017-04-29 - 2017-05-12  days:  14\n",
      "feature window:  2017-03-30 - 2017-04-28  days:  30\n"
     ]
    }
   ],
   "source": [
    "import datetime\n",
    "from dateutil import parser\n",
    "\n",
    "label_window_size = 14\n",
    "label_window_end_date = parser.parse('2017-05-12').date()\n",
    "label_window_start_date = label_window_end_date - datetime.timedelta(label_window_size - 1)\n",
    "print('label window: ', label_window_start_date, '-', label_window_end_date, ' days: ', label_window_size)\n",
    "\n",
    "feature_window_size = 30\n",
    "feature_window_end_date = label_window_start_date - datetime.timedelta(1)\n",
    "feature_window_start_date = feature_window_end_date - datetime.timedelta(feature_window_size - 1)\n",
    "print('feature window: ', feature_window_start_date, '-', feature_window_end_date, ' days: ', feature_window_size)"
   ]
  },
  {
   "cell_type": "code",
   "execution_count": 14,
   "metadata": {},
   "outputs": [],
   "source": [
    "# all the uid we will model\n",
    "df_model_uid = df.filter((F.col('date')>=feature_window_start_date) & (F.col('date')<=feature_window_end_date))\\\n",
    "                    .select('uid').distinct()\n",
    "# active in label window (active label=0)\n",
    "df_active_uid_in_label_window = df.filter((F.col('date')>=label_window_start_date) & (F.col('date')<=label_window_end_date))\\\n",
    "                            .select('uid').distinct().withColumn('churn',F.lit(0))"
   ]
  },
  {
   "cell_type": "code",
   "execution_count": 15,
   "metadata": {},
   "outputs": [
    {
     "data": {
      "text/plain": [
       "DataFrame[uid: string]"
      ]
     },
     "execution_count": 15,
     "metadata": {},
     "output_type": "execute_result"
    }
   ],
   "source": [
    "df_model_uid"
   ]
  },
  {
   "cell_type": "code",
   "execution_count": 16,
   "metadata": {},
   "outputs": [],
   "source": [
    "df_churn = df_model_uid.join(df_active_uid_in_label_window, on=['uid'], how='left')\n",
    "df_churn = df_churn.fillna(1)"
   ]
  },
  {
   "cell_type": "code",
   "execution_count": 17,
   "metadata": {},
   "outputs": [
    {
     "name": "stdout",
     "output_type": "stream",
     "text": [
      "+-----+-----+\n",
      "|churn|count|\n",
      "+-----+-----+\n",
      "|    1|16036|\n",
      "|    0|14735|\n",
      "+-----+-----+\n",
      "\n"
     ]
    }
   ],
   "source": [
    "df_churn.groupBy('churn').count().show()"
   ]
  },
  {
   "cell_type": "markdown",
   "metadata": {},
   "source": [
    "The numbers of churn users and un-churn users are at the same level, so we do not need to do downsampling or upsampling and use these as target values directly."
   ]
  },
  {
   "cell_type": "markdown",
   "metadata": {},
   "source": [
    "## Create frequency features for play, down and search"
   ]
  },
  {
   "cell_type": "code",
   "execution_count": 18,
   "metadata": {},
   "outputs": [
    {
     "name": "stdout",
     "output_type": "stream",
     "text": [
      "+---------+-----+----------+\n",
      "|      uid|event|      date|\n",
      "+---------+-----+----------+\n",
      "|168050395|    D|2017-03-30|\n",
      "|168340709|    S|2017-03-30|\n",
      "|168419556|    S|2017-03-30|\n",
      "|168447876|    S|2017-03-30|\n",
      "|168507164|    S|2017-03-30|\n",
      "|168486888|    S|2017-03-30|\n",
      "|168315563|    S|2017-03-30|\n",
      "|168446240|    S|2017-03-30|\n",
      "|168507164|    S|2017-03-30|\n",
      "|168506014|    S|2017-03-30|\n",
      "|168501374|    S|2017-03-30|\n",
      "|168508002|    S|2017-03-30|\n",
      "|168463535|    S|2017-03-30|\n",
      "|168515699|    S|2017-03-30|\n",
      "|168507164|    S|2017-03-30|\n",
      "|168507164|    S|2017-03-30|\n",
      "|168119029|    S|2017-03-30|\n",
      "|168108703|    S|2017-03-30|\n",
      "|168314770|    S|2017-03-30|\n",
      "|168520382|    S|2017-03-30|\n",
      "+---------+-----+----------+\n",
      "only showing top 20 rows\n",
      "\n"
     ]
    }
   ],
   "source": [
    "df_feature_window = df.filter((F.col('date')>=feature_window_start_date) & (F.col('date')<=feature_window_end_date))\n",
    "df_feature_window.show()"
   ]
  },
  {
   "cell_type": "code",
   "execution_count": 19,
   "metadata": {},
   "outputs": [],
   "source": [
    "# define a function to generate frequency features for a list of time windows\n",
    "# using when().otherwise(), and list comprehension trick!\n",
    "def frequency_feature_generation_time_windows(df,event,time_window_list,snapshot_date):\n",
    "    \"\"\"\n",
    "    generate frequency features for one event type and a list of time windows\n",
    "    \"\"\"\n",
    "    df_feature = df \\\n",
    "        .filter(F.col('event')==event) \\\n",
    "        .groupBy('uid') \\\n",
    "        .agg(*[F.sum(F.when((F.col('date')>=snapshot_date-datetime.timedelta(time_window-1)) & (F.col('date')<=snapshot_date),1).otherwise(0)).alias('freq_'+event+'_last_'+str(time_window)) \\\n",
    "                for time_window in time_window_list]\n",
    "            )# *[] opens list and make them comma separated\n",
    "    return df_feature"
   ]
  },
  {
   "cell_type": "code",
   "execution_count": 20,
   "metadata": {},
   "outputs": [
    {
     "name": "stdout",
     "output_type": "stream",
     "text": [
      "+---------+-------------+-------------+-------------+--------------+--------------+\n",
      "|      uid|freq_S_last_1|freq_S_last_3|freq_S_last_7|freq_S_last_14|freq_S_last_30|\n",
      "+---------+-------------+-------------+-------------+--------------+--------------+\n",
      "|168473056|            0|            0|            0|             0|            35|\n",
      "|168476045|            0|            0|            0|             0|             2|\n",
      "|168238056|            0|            0|            0|             0|            36|\n",
      "|168447589|            0|            0|            0|             0|            11|\n",
      "|168480574|            0|            0|            0|             1|            11|\n",
      "|168363625|            3|            5|            5|             5|            14|\n",
      "|168506583|            0|            0|            0|            21|            39|\n",
      "|168109701|            0|            0|            0|             1|             3|\n",
      "|168149184|            0|            0|            0|             0|            42|\n",
      "|167877570|            0|            0|            0|             0|            35|\n",
      "|167968103|            0|            0|            1|            49|           107|\n",
      "|168653116|            0|            0|            0|             0|             5|\n",
      "|168648330|            0|            0|            0|             0|            21|\n",
      "|168582813|            0|            0|            0|             2|            20|\n",
      "|168613800|            0|            0|            0|             0|             2|\n",
      "|168673694|            0|            0|            0|             1|             9|\n",
      "|168670623|            0|            0|            0|             0|             7|\n",
      "|168533024|            0|            0|            0|             0|             5|\n",
      "|159183409|            0|            0|            2|             2|             9|\n",
      "|168538458|            0|            0|            0|             0|             1|\n",
      "+---------+-------------+-------------+-------------+--------------+--------------+\n",
      "only showing top 20 rows\n",
      "\n"
     ]
    }
   ],
   "source": [
    "# generate one event type, all time windows \n",
    "event = 'S'\n",
    "time_window_list = [1,3,7,14,30]\n",
    "snapshot_date = feature_window_end_date\n",
    "df_feature = frequency_feature_generation_time_windows(df_feature_window,event,time_window_list,snapshot_date)\n",
    "df_feature.show(20)"
   ]
  },
  {
   "cell_type": "code",
   "execution_count": 21,
   "metadata": {},
   "outputs": [],
   "source": [
    "event_list = ['P','D','S']\n",
    "time_window_list = [1,3,7,14,30]\n",
    "df_feature_list = []\n",
    "for event in event_list:\n",
    "    df_feature_list.append(frequency_feature_generation_time_windows(df_feature_window,event,time_window_list,snapshot_date))"
   ]
  },
  {
   "cell_type": "code",
   "execution_count": 22,
   "metadata": {},
   "outputs": [],
   "source": [
    "def join_feature_data(df_master,df_feature_list):\n",
    "    for df_feature in df_feature_list:\n",
    "        df_master = df_master.join(df_feature,on='uid',how='left')\n",
    "        #df_master.persist() # uncomment if number of joins is too many\n",
    "    return df_master"
   ]
  },
  {
   "cell_type": "code",
   "execution_count": 23,
   "metadata": {},
   "outputs": [],
   "source": [
    "df_model = join_feature_data(df_churn,df_feature_list)"
   ]
  },
  {
   "cell_type": "code",
   "execution_count": 24,
   "metadata": {},
   "outputs": [
    {
     "name": "stdout",
     "output_type": "stream",
     "text": [
      "+---------+-----+-------------+-------------+-------------+--------------+--------------+-------------+-------------+-------------+--------------+--------------+-------------+-------------+-------------+--------------+--------------+\n",
      "|      uid|churn|freq_P_last_1|freq_P_last_3|freq_P_last_7|freq_P_last_14|freq_P_last_30|freq_D_last_1|freq_D_last_3|freq_D_last_7|freq_D_last_14|freq_D_last_30|freq_S_last_1|freq_S_last_3|freq_S_last_7|freq_S_last_14|freq_S_last_30|\n",
      "+---------+-----+-------------+-------------+-------------+--------------+--------------+-------------+-------------+-------------+--------------+--------------+-------------+-------------+-------------+--------------+--------------+\n",
      "|159183409|    0|            0|            0|            1|            79|           547|            0|            0|            0|             0|             1|            0|            0|            2|             2|             9|\n",
      "|165374841|    1|            0|            0|            0|             0|            62|         null|         null|         null|          null|          null|         null|         null|         null|          null|          null|\n",
      "|167587629|    1|            0|            0|            0|             0|            24|         null|         null|         null|          null|          null|         null|         null|         null|          null|          null|\n",
      "|167589113|    1|            0|            0|            0|            42|           214|         null|         null|         null|          null|          null|         null|         null|         null|          null|          null|\n",
      "|167595244|    1|            0|            0|            0|             0|            50|            0|            0|            0|             0|             1|         null|         null|         null|          null|          null|\n",
      "|167612678|    1|            0|            0|            0|             0|            13|         null|         null|         null|          null|          null|         null|         null|         null|          null|          null|\n",
      "|167614373|    0|            0|            0|            0|             0|            47|         null|         null|         null|          null|          null|         null|         null|         null|          null|          null|\n",
      "|167614845|    1|            0|            0|            0|             0|            20|         null|         null|         null|          null|          null|         null|         null|         null|          null|          null|\n",
      "|167622696|    1|            0|            0|            0|             0|            11|         null|         null|         null|          null|          null|         null|         null|         null|          null|          null|\n",
      "|167631789|    1|            0|            0|            0|             0|             9|         null|         null|         null|          null|          null|         null|         null|         null|          null|          null|\n",
      "|167635050|    0|          254|          629|          992|          1573|          2124|           10|           14|           15|            21|            49|           16|           27|           32|            59|           101|\n",
      "|167635731|    0|            0|            0|           29|            68|           114|            0|            0|            0|             0|            29|            0|            0|            0|             0|             1|\n",
      "|167639944|    0|            0|            0|            0|            53|            72|         null|         null|         null|          null|          null|            0|            0|            0|             2|            10|\n",
      "|167659528|    0|           44|          300|          451|           718|           882|            0|            2|            5|            17|            38|            0|            0|           11|            29|            29|\n",
      "|167661040|    1|            0|            0|            2|           112|           387|         null|         null|         null|          null|          null|            0|            0|            2|             5|            21|\n",
      "|167690867|    0|            0|            2|            7|            14|            20|         null|         null|         null|          null|          null|            0|            1|            4|             8|            16|\n",
      "|167693620|    0|           15|           48|           83|           305|           453|            0|            0|            0|             3|             4|            0|            0|            0|             5|            11|\n",
      "|167697220|    0|            0|           17|           20|            48|            59|            0|            0|            1|             2|             8|            0|            0|            0|             7|            10|\n",
      "|167713433|    0|            4|            4|           10|            42|            71|         null|         null|         null|          null|          null|            2|            2|            3|             5|            14|\n",
      "|167728282|    1|            0|            0|            0|            15|            23|         null|         null|         null|          null|          null|            0|            0|            0|             1|             3|\n",
      "+---------+-----+-------------+-------------+-------------+--------------+--------------+-------------+-------------+-------------+--------------+--------------+-------------+-------------+-------------+--------------+--------------+\n",
      "only showing top 20 rows\n",
      "\n"
     ]
    }
   ],
   "source": [
    "df_model.show()"
   ]
  },
  {
   "cell_type": "markdown",
   "metadata": {},
   "source": [
    "# Create play time features"
   ]
  },
  {
   "cell_type": "code",
   "execution_count": 25,
   "metadata": {},
   "outputs": [],
   "source": [
    "df_time = spark.read.csv('data/play/play.csv', header=True).cache()"
   ]
  },
  {
   "cell_type": "code",
   "execution_count": 26,
   "metadata": {},
   "outputs": [
    {
     "name": "stdout",
     "output_type": "stream",
     "text": [
      "+---------+------+----------+---------+--------+----------+\n",
      "|      uid|device|   song_id|play_time|song_len|      date|\n",
      "+---------+------+----------+---------+--------+----------+\n",
      "|168551607|    ar| 5517668.0|      231|   245.0|2017-03-30|\n",
      "|168542809|    ar| 7149583.0|      214|   215.0|2017-03-30|\n",
      "|168541712|    ip| 7665801.0|      259|   259.0|2017-03-30|\n",
      "|168537267|    ip|  492830.0|        1|   215.0|2017-03-30|\n",
      "|168537689|    ar|   60333.0|       57|   186.0|2017-03-30|\n",
      "|168537376|    ar| 1119983.0|       48|   194.0|2017-03-30|\n",
      "|168537267|    ip|   55722.0|        1|   273.0|2017-03-30|\n",
      "|168542540|    ar|15249349.0|      333|   333.0|2017-03-30|\n",
      "|168542981|    ar| 8762277.0|        4|   232.0|2017-03-30|\n",
      "|168543067|    ar| 5517668.0|      192|   245.0|2017-03-30|\n",
      "|168537267|    ip|  388733.0|        2|   263.0|2017-03-30|\n",
      "|168540947|    ar| 6651913.0|      251|   251.0|2017-03-30|\n",
      "|168541542|    ar| 6972794.0|       41|    47.0|2017-03-30|\n",
      "|168537267|    ip|  625294.0|        0|   259.0|2017-03-30|\n",
      "|168542719|    ar| 6660691.0|       14|   266.0|2017-03-30|\n",
      "|168534533|    ar| 2133188.0|      154|   336.0|2017-03-30|\n",
      "|168542810|    ar|23491659.0|      334|   335.0|2017-03-30|\n",
      "|168542443|    ar|  239520.0|      239|   240.0|2017-03-30|\n",
      "|168537267|    ip|  279437.0|        0|   218.0|2017-03-30|\n",
      "|168543067|    ar|   77805.0|        4|   227.0|2017-03-30|\n",
      "+---------+------+----------+---------+--------+----------+\n",
      "only showing top 20 rows\n",
      "\n"
     ]
    }
   ],
   "source": [
    "df_time.show()"
   ]
  },
  {
   "cell_type": "code",
   "execution_count": 27,
   "metadata": {},
   "outputs": [
    {
     "name": "stdout",
     "output_type": "stream",
     "text": [
      "root\n",
      " |-- uid: string (nullable = true)\n",
      " |-- device: string (nullable = true)\n",
      " |-- song_id: string (nullable = true)\n",
      " |-- play_time: string (nullable = true)\n",
      " |-- song_len: string (nullable = true)\n",
      " |-- date: string (nullable = true)\n",
      "\n"
     ]
    }
   ],
   "source": [
    "df_time.printSchema()"
   ]
  },
  {
   "cell_type": "code",
   "execution_count": 28,
   "metadata": {},
   "outputs": [],
   "source": [
    "df_time = df_time.withColumn('play_time', F.col('play_time').cast('float'))"
   ]
  },
  {
   "cell_type": "code",
   "execution_count": 29,
   "metadata": {},
   "outputs": [],
   "source": [
    "df_time = df_time.withColumn('song_len', F.col('song_len').cast('float'))"
   ]
  },
  {
   "cell_type": "code",
   "execution_count": 30,
   "metadata": {},
   "outputs": [],
   "source": [
    "df_time = df_time.withColumn('finished', F.when(F.col('play_time') / F.col('song_len') > 0.8, 1).otherwise(0))"
   ]
  },
  {
   "cell_type": "code",
   "execution_count": 31,
   "metadata": {
    "scrolled": true
   },
   "outputs": [
    {
     "name": "stdout",
     "output_type": "stream",
     "text": [
      "+--------+-------+\n",
      "|finished|  count|\n",
      "+--------+-------+\n",
      "|       1|4718103|\n",
      "|       0|4743080|\n",
      "+--------+-------+\n",
      "\n"
     ]
    }
   ],
   "source": [
    "df_time.groupBy('finished').count().show()"
   ]
  },
  {
   "cell_type": "code",
   "execution_count": 32,
   "metadata": {},
   "outputs": [],
   "source": [
    "df_time = df_time[df_time['finished'] == 1]"
   ]
  },
  {
   "cell_type": "code",
   "execution_count": 33,
   "metadata": {},
   "outputs": [
    {
     "data": {
      "text/plain": [
       "4718103"
      ]
     },
     "execution_count": 33,
     "metadata": {},
     "output_type": "execute_result"
    }
   ],
   "source": [
    "df_time.count()"
   ]
  },
  {
   "cell_type": "code",
   "execution_count": 34,
   "metadata": {},
   "outputs": [],
   "source": [
    "time_window_list = [1,3,7,14,30]"
   ]
  },
  {
   "cell_type": "code",
   "execution_count": 35,
   "metadata": {},
   "outputs": [],
   "source": [
    "def frequency_feature_generation_time_windows(df,time_window_list,snapshot_date):\n",
    "    \"\"\"\n",
    "    generate frequency features for one event type and a list of time windows\n",
    "    \"\"\"\n",
    "    df_feature = df \\\n",
    "        .groupBy('uid') \\\n",
    "        .agg(*[F.sum(F.when((F.col('date')>=snapshot_date-datetime.timedelta(time_window-1)) & (F.col('date')<=snapshot_date),1).otherwise(0)).alias('freq_finished'+'_last_'+str(time_window)) \\\n",
    "                for time_window in time_window_list]\n",
    "            )# *[] opens list and make them comma separated\n",
    "    return df_feature"
   ]
  },
  {
   "cell_type": "code",
   "execution_count": 36,
   "metadata": {},
   "outputs": [],
   "source": [
    "df_time = frequency_feature_generation_time_windows(df_time, time_window_list, feature_window_end_date)"
   ]
  },
  {
   "cell_type": "code",
   "execution_count": 37,
   "metadata": {},
   "outputs": [
    {
     "name": "stdout",
     "output_type": "stream",
     "text": [
      "+---------+--------------------+--------------------+--------------------+---------------------+---------------------+\n",
      "|      uid|freq_finished_last_1|freq_finished_last_3|freq_finished_last_7|freq_finished_last_14|freq_finished_last_30|\n",
      "+---------+--------------------+--------------------+--------------------+---------------------+---------------------+\n",
      "|168541323|                   0|                   0|                   2|                    8|                   95|\n",
      "|168896704|                 106|                 331|                 792|                 1346|                 3034|\n",
      "|168966725|                   0|                   0|                 113|                  115|                  663|\n",
      "|168970658|                   0|                   0|                   0|                    5|                   14|\n",
      "|168812339|                 126|                 321|                 633|                 1299|                 2141|\n",
      "|168944638|                   0|                   0|                   2|                    7|                   33|\n",
      "|168908850|                  25|                  53|                  56|                  131|                  247|\n",
      "|168648527|                   0|                   0|                   0|                    0|                   33|\n",
      "|168578629|                   0|                  23|                  70|                  122|                  387|\n",
      "|168607232|                   0|                   0|                   0|                    0|                   26|\n",
      "|168609342|                   0|                   0|                   0|                    0|                    3|\n",
      "|168721878|                  15|                  40|                  55|                  100|                  301|\n",
      "|168853767|                   0|                  14|                  27|                   27|                  201|\n",
      "|168744545|                   0|                   0|                   0|                    0|                  130|\n",
      "|168876724|                   0|                   2|                   4|                   12|                   16|\n",
      "|168774548|                   0|                   0|                   0|                    0|                    9|\n",
      "|168753428|                   0|                   0|                   0|                    0|                   15|\n",
      "|168811798|                  17|                  25|                  25|                   53|                  240|\n",
      "|168847542|                   9|                  14|                  37|                  113|                  249|\n",
      "|168967633|                  16|                  54|                  65|                   88|                  116|\n",
      "+---------+--------------------+--------------------+--------------------+---------------------+---------------------+\n",
      "only showing top 20 rows\n",
      "\n"
     ]
    }
   ],
   "source": [
    "df_time.show()"
   ]
  },
  {
   "cell_type": "code",
   "execution_count": 40,
   "metadata": {},
   "outputs": [],
   "source": [
    "df_model_final = df_model.join(df_time, on='uid', how='left')"
   ]
  },
  {
   "cell_type": "code",
   "execution_count": 46,
   "metadata": {},
   "outputs": [],
   "source": [
    "df_model_final.fillna(0).toPandas().to_csv('data/df_model_final.csv', index=False)"
   ]
  },
  {
   "cell_type": "code",
   "execution_count": null,
   "metadata": {},
   "outputs": [],
   "source": []
  }
 ],
 "metadata": {
  "kernelspec": {
   "display_name": "Python 3",
   "language": "python",
   "name": "python3"
  },
  "language_info": {
   "codemirror_mode": {
    "name": "ipython",
    "version": 3
   },
   "file_extension": ".py",
   "mimetype": "text/x-python",
   "name": "python",
   "nbconvert_exporter": "python",
   "pygments_lexer": "ipython3",
   "version": "3.6.4"
  }
 },
 "nbformat": 4,
 "nbformat_minor": 2
}
