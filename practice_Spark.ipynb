{
 "cells": [
  {
   "cell_type": "markdown",
   "metadata": {},
   "source": [
    "# Practice with operations on Spark dataframe\n",
    "Only use a fraction of all the availible data for faster speed, 100k lines."
   ]
  },
  {
   "cell_type": "code",
   "execution_count": 1,
   "metadata": {
    "collapsed": true
   },
   "outputs": [],
   "source": [
    "import pandas as pd\n",
    "import numpy as np\n",
    "import random"
   ]
  },
  {
   "cell_type": "code",
   "execution_count": 2,
   "metadata": {
    "scrolled": true
   },
   "outputs": [
    {
     "name": "stderr",
     "output_type": "stream",
     "text": [
      "/Users/qingwang/anaconda/lib/python3.6/site-packages/IPython/core/interactiveshell.py:2717: DtypeWarning: Columns (2) have mixed types. Specify dtype option on import or set low_memory=False.\n",
      "  interactivity=interactivity, compiler=compiler, result=result)\n"
     ]
    }
   ],
   "source": [
    "df = pd.read_csv('data/play/play.csv')"
   ]
  },
  {
   "cell_type": "code",
   "execution_count": 3,
   "metadata": {
    "scrolled": false
   },
   "outputs": [
    {
     "data": {
      "text/plain": [
       "uid           int64\n",
       "device       object\n",
       "song_id      object\n",
       "play_time    object\n",
       "song_len     object\n",
       "date         object\n",
       "dtype: object"
      ]
     },
     "execution_count": 3,
     "metadata": {},
     "output_type": "execute_result"
    }
   ],
   "source": [
    "df.dtypes"
   ]
  },
  {
   "cell_type": "code",
   "execution_count": 5,
   "metadata": {
    "collapsed": true
   },
   "outputs": [],
   "source": [
    "df = df.dropna()"
   ]
  },
  {
   "cell_type": "code",
   "execution_count": 6,
   "metadata": {
    "scrolled": true
   },
   "outputs": [
    {
     "data": {
      "text/plain": [
       "uid          0\n",
       "device       0\n",
       "song_id      0\n",
       "play_time    0\n",
       "song_len     0\n",
       "date         0\n",
       "dtype: int64"
      ]
     },
     "execution_count": 6,
     "metadata": {},
     "output_type": "execute_result"
    }
   ],
   "source": [
    "df.isnull().sum()"
   ]
  },
  {
   "cell_type": "code",
   "execution_count": 12,
   "metadata": {},
   "outputs": [
    {
     "data": {
      "text/html": [
       "<div>\n",
       "<style>\n",
       "    .dataframe thead tr:only-child th {\n",
       "        text-align: right;\n",
       "    }\n",
       "\n",
       "    .dataframe thead th {\n",
       "        text-align: left;\n",
       "    }\n",
       "\n",
       "    .dataframe tbody tr th {\n",
       "        vertical-align: top;\n",
       "    }\n",
       "</style>\n",
       "<table border=\"1\" class=\"dataframe\">\n",
       "  <thead>\n",
       "    <tr style=\"text-align: right;\">\n",
       "      <th></th>\n",
       "      <th>uid</th>\n",
       "      <th>device</th>\n",
       "      <th>song_id</th>\n",
       "      <th>play_time</th>\n",
       "      <th>song_len</th>\n",
       "    </tr>\n",
       "    <tr>\n",
       "      <th>date</th>\n",
       "      <th></th>\n",
       "      <th></th>\n",
       "      <th></th>\n",
       "      <th></th>\n",
       "      <th></th>\n",
       "    </tr>\n",
       "  </thead>\n",
       "  <tbody>\n",
       "    <tr>\n",
       "      <th>20170330</th>\n",
       "      <td>287766</td>\n",
       "      <td>287766</td>\n",
       "      <td>287766</td>\n",
       "      <td>287766</td>\n",
       "      <td>287766</td>\n",
       "    </tr>\n",
       "    <tr>\n",
       "      <th>20170331</th>\n",
       "      <td>554875</td>\n",
       "      <td>554875</td>\n",
       "      <td>554875</td>\n",
       "      <td>554875</td>\n",
       "      <td>554875</td>\n",
       "    </tr>\n",
       "    <tr>\n",
       "      <th>20170401</th>\n",
       "      <td>475218</td>\n",
       "      <td>475218</td>\n",
       "      <td>475218</td>\n",
       "      <td>475218</td>\n",
       "      <td>475218</td>\n",
       "    </tr>\n",
       "    <tr>\n",
       "      <th>20170402</th>\n",
       "      <td>446415</td>\n",
       "      <td>446415</td>\n",
       "      <td>446415</td>\n",
       "      <td>446415</td>\n",
       "      <td>446415</td>\n",
       "    </tr>\n",
       "    <tr>\n",
       "      <th>20170403</th>\n",
       "      <td>233073</td>\n",
       "      <td>233073</td>\n",
       "      <td>233073</td>\n",
       "      <td>233073</td>\n",
       "      <td>233073</td>\n",
       "    </tr>\n",
       "    <tr>\n",
       "      <th>20170404</th>\n",
       "      <td>336983</td>\n",
       "      <td>336983</td>\n",
       "      <td>336983</td>\n",
       "      <td>336983</td>\n",
       "      <td>336983</td>\n",
       "    </tr>\n",
       "    <tr>\n",
       "      <th>20170405</th>\n",
       "      <td>274091</td>\n",
       "      <td>274091</td>\n",
       "      <td>274091</td>\n",
       "      <td>274091</td>\n",
       "      <td>274091</td>\n",
       "    </tr>\n",
       "    <tr>\n",
       "      <th>20170406</th>\n",
       "      <td>276100</td>\n",
       "      <td>276100</td>\n",
       "      <td>276100</td>\n",
       "      <td>276100</td>\n",
       "      <td>276100</td>\n",
       "    </tr>\n",
       "    <tr>\n",
       "      <th>20170407</th>\n",
       "      <td>256903</td>\n",
       "      <td>256903</td>\n",
       "      <td>256903</td>\n",
       "      <td>256903</td>\n",
       "      <td>256903</td>\n",
       "    </tr>\n",
       "    <tr>\n",
       "      <th>20170408</th>\n",
       "      <td>267130</td>\n",
       "      <td>267130</td>\n",
       "      <td>267130</td>\n",
       "      <td>267130</td>\n",
       "      <td>267130</td>\n",
       "    </tr>\n",
       "    <tr>\n",
       "      <th>20170409</th>\n",
       "      <td>260528</td>\n",
       "      <td>260528</td>\n",
       "      <td>260528</td>\n",
       "      <td>260528</td>\n",
       "      <td>260528</td>\n",
       "    </tr>\n",
       "    <tr>\n",
       "      <th>20170410</th>\n",
       "      <td>231050</td>\n",
       "      <td>231050</td>\n",
       "      <td>231050</td>\n",
       "      <td>231050</td>\n",
       "      <td>231050</td>\n",
       "    </tr>\n",
       "    <tr>\n",
       "      <th>20170411</th>\n",
       "      <td>145942</td>\n",
       "      <td>145942</td>\n",
       "      <td>145942</td>\n",
       "      <td>145942</td>\n",
       "      <td>145942</td>\n",
       "    </tr>\n",
       "    <tr>\n",
       "      <th>20170412</th>\n",
       "      <td>229159</td>\n",
       "      <td>229159</td>\n",
       "      <td>229159</td>\n",
       "      <td>229159</td>\n",
       "      <td>229159</td>\n",
       "    </tr>\n",
       "    <tr>\n",
       "      <th>20170413</th>\n",
       "      <td>223029</td>\n",
       "      <td>223029</td>\n",
       "      <td>223029</td>\n",
       "      <td>223029</td>\n",
       "      <td>223029</td>\n",
       "    </tr>\n",
       "    <tr>\n",
       "      <th>20170414</th>\n",
       "      <td>147346</td>\n",
       "      <td>147346</td>\n",
       "      <td>147346</td>\n",
       "      <td>147346</td>\n",
       "      <td>147346</td>\n",
       "    </tr>\n",
       "    <tr>\n",
       "      <th>20170415</th>\n",
       "      <td>218751</td>\n",
       "      <td>218751</td>\n",
       "      <td>218751</td>\n",
       "      <td>218751</td>\n",
       "      <td>218751</td>\n",
       "    </tr>\n",
       "    <tr>\n",
       "      <th>20170416</th>\n",
       "      <td>219720</td>\n",
       "      <td>219720</td>\n",
       "      <td>219720</td>\n",
       "      <td>219720</td>\n",
       "      <td>219720</td>\n",
       "    </tr>\n",
       "    <tr>\n",
       "      <th>20170417</th>\n",
       "      <td>199527</td>\n",
       "      <td>199527</td>\n",
       "      <td>199527</td>\n",
       "      <td>199527</td>\n",
       "      <td>199527</td>\n",
       "    </tr>\n",
       "    <tr>\n",
       "      <th>20170418</th>\n",
       "      <td>197278</td>\n",
       "      <td>197278</td>\n",
       "      <td>197278</td>\n",
       "      <td>197278</td>\n",
       "      <td>197278</td>\n",
       "    </tr>\n",
       "    <tr>\n",
       "      <th>20170419</th>\n",
       "      <td>198414</td>\n",
       "      <td>198414</td>\n",
       "      <td>198414</td>\n",
       "      <td>198414</td>\n",
       "      <td>198414</td>\n",
       "    </tr>\n",
       "    <tr>\n",
       "      <th>20170420</th>\n",
       "      <td>195124</td>\n",
       "      <td>195124</td>\n",
       "      <td>195124</td>\n",
       "      <td>195124</td>\n",
       "      <td>195124</td>\n",
       "    </tr>\n",
       "    <tr>\n",
       "      <th>20170421</th>\n",
       "      <td>189494</td>\n",
       "      <td>189494</td>\n",
       "      <td>189494</td>\n",
       "      <td>189494</td>\n",
       "      <td>189494</td>\n",
       "    </tr>\n",
       "    <tr>\n",
       "      <th>20170422</th>\n",
       "      <td>199428</td>\n",
       "      <td>199428</td>\n",
       "      <td>199428</td>\n",
       "      <td>199428</td>\n",
       "      <td>199428</td>\n",
       "    </tr>\n",
       "    <tr>\n",
       "      <th>20170423</th>\n",
       "      <td>196867</td>\n",
       "      <td>196867</td>\n",
       "      <td>196867</td>\n",
       "      <td>196867</td>\n",
       "      <td>196867</td>\n",
       "    </tr>\n",
       "    <tr>\n",
       "      <th>20170424</th>\n",
       "      <td>97945</td>\n",
       "      <td>97945</td>\n",
       "      <td>97945</td>\n",
       "      <td>97945</td>\n",
       "      <td>97945</td>\n",
       "    </tr>\n",
       "    <tr>\n",
       "      <th>20170425</th>\n",
       "      <td>173835</td>\n",
       "      <td>173835</td>\n",
       "      <td>173835</td>\n",
       "      <td>173835</td>\n",
       "      <td>173835</td>\n",
       "    </tr>\n",
       "    <tr>\n",
       "      <th>20170426</th>\n",
       "      <td>173460</td>\n",
       "      <td>173460</td>\n",
       "      <td>173460</td>\n",
       "      <td>173460</td>\n",
       "      <td>173460</td>\n",
       "    </tr>\n",
       "    <tr>\n",
       "      <th>20170427</th>\n",
       "      <td>201030</td>\n",
       "      <td>201030</td>\n",
       "      <td>201030</td>\n",
       "      <td>201030</td>\n",
       "      <td>201030</td>\n",
       "    </tr>\n",
       "    <tr>\n",
       "      <th>20170428</th>\n",
       "      <td>169357</td>\n",
       "      <td>169357</td>\n",
       "      <td>169357</td>\n",
       "      <td>169357</td>\n",
       "      <td>169357</td>\n",
       "    </tr>\n",
       "    <tr>\n",
       "      <th>20170429</th>\n",
       "      <td>183419</td>\n",
       "      <td>183419</td>\n",
       "      <td>183419</td>\n",
       "      <td>183419</td>\n",
       "      <td>183419</td>\n",
       "    </tr>\n",
       "    <tr>\n",
       "      <th>20170430</th>\n",
       "      <td>175113</td>\n",
       "      <td>175113</td>\n",
       "      <td>175113</td>\n",
       "      <td>175113</td>\n",
       "      <td>175113</td>\n",
       "    </tr>\n",
       "    <tr>\n",
       "      <th>20170501</th>\n",
       "      <td>168986</td>\n",
       "      <td>168986</td>\n",
       "      <td>168986</td>\n",
       "      <td>168986</td>\n",
       "      <td>168986</td>\n",
       "    </tr>\n",
       "    <tr>\n",
       "      <th>20170502</th>\n",
       "      <td>141830</td>\n",
       "      <td>141830</td>\n",
       "      <td>141830</td>\n",
       "      <td>141830</td>\n",
       "      <td>141830</td>\n",
       "    </tr>\n",
       "    <tr>\n",
       "      <th>20170503</th>\n",
       "      <td>150161</td>\n",
       "      <td>150161</td>\n",
       "      <td>150161</td>\n",
       "      <td>150161</td>\n",
       "      <td>150161</td>\n",
       "    </tr>\n",
       "    <tr>\n",
       "      <th>20170504</th>\n",
       "      <td>153347</td>\n",
       "      <td>153347</td>\n",
       "      <td>153347</td>\n",
       "      <td>153347</td>\n",
       "      <td>153347</td>\n",
       "    </tr>\n",
       "    <tr>\n",
       "      <th>20170505</th>\n",
       "      <td>155432</td>\n",
       "      <td>155432</td>\n",
       "      <td>155432</td>\n",
       "      <td>155432</td>\n",
       "      <td>155432</td>\n",
       "    </tr>\n",
       "    <tr>\n",
       "      <th>20170506</th>\n",
       "      <td>160032</td>\n",
       "      <td>160032</td>\n",
       "      <td>160032</td>\n",
       "      <td>160032</td>\n",
       "      <td>160032</td>\n",
       "    </tr>\n",
       "    <tr>\n",
       "      <th>20170507</th>\n",
       "      <td>158045</td>\n",
       "      <td>158045</td>\n",
       "      <td>158045</td>\n",
       "      <td>158045</td>\n",
       "      <td>158045</td>\n",
       "    </tr>\n",
       "    <tr>\n",
       "      <th>20170508</th>\n",
       "      <td>146998</td>\n",
       "      <td>146998</td>\n",
       "      <td>146998</td>\n",
       "      <td>146998</td>\n",
       "      <td>146998</td>\n",
       "    </tr>\n",
       "    <tr>\n",
       "      <th>20170509</th>\n",
       "      <td>155979</td>\n",
       "      <td>155979</td>\n",
       "      <td>155979</td>\n",
       "      <td>155979</td>\n",
       "      <td>155979</td>\n",
       "    </tr>\n",
       "    <tr>\n",
       "      <th>20170510</th>\n",
       "      <td>144293</td>\n",
       "      <td>144293</td>\n",
       "      <td>144293</td>\n",
       "      <td>144293</td>\n",
       "      <td>144293</td>\n",
       "    </tr>\n",
       "    <tr>\n",
       "      <th>20170511</th>\n",
       "      <td>143398</td>\n",
       "      <td>143398</td>\n",
       "      <td>143398</td>\n",
       "      <td>143398</td>\n",
       "      <td>143398</td>\n",
       "    </tr>\n",
       "    <tr>\n",
       "      <th>20170512</th>\n",
       "      <td>149338</td>\n",
       "      <td>149338</td>\n",
       "      <td>149338</td>\n",
       "      <td>149338</td>\n",
       "      <td>149338</td>\n",
       "    </tr>\n",
       "  </tbody>\n",
       "</table>\n",
       "</div>"
      ],
      "text/plain": [
       "             uid  device  song_id  play_time  song_len\n",
       "date                                                  \n",
       "20170330  287766  287766   287766     287766    287766\n",
       "20170331  554875  554875   554875     554875    554875\n",
       "20170401  475218  475218   475218     475218    475218\n",
       "20170402  446415  446415   446415     446415    446415\n",
       "20170403  233073  233073   233073     233073    233073\n",
       "20170404  336983  336983   336983     336983    336983\n",
       "20170405  274091  274091   274091     274091    274091\n",
       "20170406  276100  276100   276100     276100    276100\n",
       "20170407  256903  256903   256903     256903    256903\n",
       "20170408  267130  267130   267130     267130    267130\n",
       "20170409  260528  260528   260528     260528    260528\n",
       "20170410  231050  231050   231050     231050    231050\n",
       "20170411  145942  145942   145942     145942    145942\n",
       "20170412  229159  229159   229159     229159    229159\n",
       "20170413  223029  223029   223029     223029    223029\n",
       "20170414  147346  147346   147346     147346    147346\n",
       "20170415  218751  218751   218751     218751    218751\n",
       "20170416  219720  219720   219720     219720    219720\n",
       "20170417  199527  199527   199527     199527    199527\n",
       "20170418  197278  197278   197278     197278    197278\n",
       "20170419  198414  198414   198414     198414    198414\n",
       "20170420  195124  195124   195124     195124    195124\n",
       "20170421  189494  189494   189494     189494    189494\n",
       "20170422  199428  199428   199428     199428    199428\n",
       "20170423  196867  196867   196867     196867    196867\n",
       "20170424   97945   97945    97945      97945     97945\n",
       "20170425  173835  173835   173835     173835    173835\n",
       "20170426  173460  173460   173460     173460    173460\n",
       "20170427  201030  201030   201030     201030    201030\n",
       "20170428  169357  169357   169357     169357    169357\n",
       "20170429  183419  183419   183419     183419    183419\n",
       "20170430  175113  175113   175113     175113    175113\n",
       "20170501  168986  168986   168986     168986    168986\n",
       "20170502  141830  141830   141830     141830    141830\n",
       "20170503  150161  150161   150161     150161    150161\n",
       "20170504  153347  153347   153347     153347    153347\n",
       "20170505  155432  155432   155432     155432    155432\n",
       "20170506  160032  160032   160032     160032    160032\n",
       "20170507  158045  158045   158045     158045    158045\n",
       "20170508  146998  146998   146998     146998    146998\n",
       "20170509  155979  155979   155979     155979    155979\n",
       "20170510  144293  144293   144293     144293    144293\n",
       "20170511  143398  143398   143398     143398    143398\n",
       "20170512  149338  149338   149338     149338    149338"
      ]
     },
     "execution_count": 12,
     "metadata": {},
     "output_type": "execute_result"
    }
   ],
   "source": [
    "df.groupby(['date']).count()"
   ]
  },
  {
   "cell_type": "code",
   "execution_count": 13,
   "metadata": {
    "collapsed": true
   },
   "outputs": [],
   "source": [
    "df = df[df['date']!='238']\n",
    "df = df[df['date']!='None']\n",
    "df.to_csv('data/play/play_tmp.csv', index=False)"
   ]
  },
  {
   "cell_type": "code",
   "execution_count": 14,
   "metadata": {
    "scrolled": false
   },
   "outputs": [
    {
     "name": "stdout",
     "output_type": "stream",
     "text": [
      "# of records:  9462209\n"
     ]
    }
   ],
   "source": [
    "print('# of records: ', df.shape[0])"
   ]
  },
  {
   "cell_type": "code",
   "execution_count": 39,
   "metadata": {
    "collapsed": true
   },
   "outputs": [],
   "source": [
    "chosen_rows = random.sample(list(np.arange(0, df.shape[0])), 100000)"
   ]
  },
  {
   "cell_type": "code",
   "execution_count": 40,
   "metadata": {
    "collapsed": true
   },
   "outputs": [],
   "source": [
    "df.iloc[chosen_rows, ].to_csv('data/event_100k.csv', index=False)"
   ]
  },
  {
   "cell_type": "markdown",
   "metadata": {},
   "source": [
    "## Create a SparkSession and load the csv file."
   ]
  },
  {
   "cell_type": "markdown",
   "metadata": {},
   "source": [
    "Also import the sql functions to do the selections, groups ....sql like operations."
   ]
  },
  {
   "cell_type": "code",
   "execution_count": 41,
   "metadata": {
    "collapsed": true
   },
   "outputs": [],
   "source": [
    "from pyspark.sql import SparkSession\n",
    "import pyspark.sql.functions as F"
   ]
  },
  {
   "cell_type": "code",
   "execution_count": 42,
   "metadata": {
    "collapsed": true
   },
   "outputs": [],
   "source": [
    "spark = SparkSession \\\n",
    "        .builder \\\n",
    "        .appName('Practice on Spark dataframe') \\\n",
    "        .getOrCreate()"
   ]
  },
  {
   "cell_type": "code",
   "execution_count": 43,
   "metadata": {
    "collapsed": true
   },
   "outputs": [],
   "source": [
    "df = spark.read.csv('data/event_100k.csv', header=True).cache()"
   ]
  },
  {
   "cell_type": "code",
   "execution_count": 44,
   "metadata": {
    "scrolled": true
   },
   "outputs": [
    {
     "name": "stdout",
     "output_type": "stream",
     "text": [
      "+---------+-----+----------+--------+\n",
      "|      uid|event|   song_id|    date|\n",
      "+---------+-----+----------+--------+\n",
      "|168033234|    P|   7169674|20170410|\n",
      "|168165789|    D|  663856.0|20170406|\n",
      "|168667361|    P|       0.0|20170417|\n",
      "|168327828|    P|   2597849|20170425|\n",
      "|168275357|    D|22845435.0|20170409|\n",
      "+---------+-----+----------+--------+\n",
      "only showing top 5 rows\n",
      "\n"
     ]
    }
   ],
   "source": [
    "df.show(5)"
   ]
  },
  {
   "cell_type": "code",
   "execution_count": 45,
   "metadata": {},
   "outputs": [
    {
     "data": {
      "text/plain": [
       "18645"
      ]
     },
     "execution_count": 45,
     "metadata": {},
     "output_type": "execute_result"
    }
   ],
   "source": [
    "df.select('uid').distinct().count()"
   ]
  },
  {
   "cell_type": "code",
   "execution_count": 46,
   "metadata": {},
   "outputs": [
    {
     "name": "stdout",
     "output_type": "stream",
     "text": [
      "+--------+-----+\n",
      "|    date|count|\n",
      "+--------+-----+\n",
      "|20170504| 1639|\n",
      "|20170413| 2507|\n",
      "|20170410| 2732|\n",
      "|20170428| 1903|\n",
      "|20170417| 2159|\n",
      "|20170420| 2144|\n",
      "|    None|  101|\n",
      "|20170430| 1927|\n",
      "|20170405| 3106|\n",
      "|20170505| 1663|\n",
      "|20170404| 3715|\n",
      "|       0|    2|\n",
      "|20170402| 5080|\n",
      "|20170424| 1148|\n",
      "|20170406| 2966|\n",
      "|20170416| 2446|\n",
      "|20170331| 3334|\n",
      "|20170429| 1975|\n",
      "|20170415| 2396|\n",
      "|20170419| 2127|\n",
      "+--------+-----+\n",
      "only showing top 20 rows\n",
      "\n"
     ]
    }
   ],
   "source": [
    "df.groupby('date').count().show()"
   ]
  },
  {
   "cell_type": "code",
   "execution_count": null,
   "metadata": {
    "collapsed": true
   },
   "outputs": [],
   "source": []
  }
 ],
 "metadata": {
  "kernelspec": {
   "display_name": "Python 3",
   "language": "python",
   "name": "python3"
  },
  "language_info": {
   "codemirror_mode": {
    "name": "ipython",
    "version": 3
   },
   "file_extension": ".py",
   "mimetype": "text/x-python",
   "name": "python",
   "nbconvert_exporter": "python",
   "pygments_lexer": "ipython3",
   "version": "3.6.1"
  }
 },
 "nbformat": 4,
 "nbformat_minor": 2
}
